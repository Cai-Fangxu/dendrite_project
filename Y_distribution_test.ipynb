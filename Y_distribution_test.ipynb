{
 "cells": [
  {
   "cell_type": "code",
   "execution_count": 1,
   "metadata": {},
   "outputs": [],
   "source": [
    "import numpy as np\n",
    "from matplotlib import pyplot as plt\n",
    "from tqdm import tqdm\n",
    "import jax.numpy as jnp\n",
    "import jax\n",
    "from functools import partial, wraps\n",
    "from scipy.special import erf\n",
    "import scipy"
   ]
  },
  {
   "cell_type": "code",
   "execution_count": 2,
   "metadata": {},
   "outputs": [],
   "source": [
    "import lib"
   ]
  },
  {
   "cell_type": "code",
   "execution_count": 3,
   "metadata": {},
   "outputs": [],
   "source": [
    "class Neuron10_2_Y(lib.Neuron10_2):\n",
    "    @partial(jax.jit, static_argnums=(0, ))\n",
    "    def update_fun(self, w, x, latent_var=None):\n",
    "        x = jnp.atleast_2d(x)\n",
    "        overlaps = jnp.sum(w*x, axis=-1) - self.b # dim = (nd, )\n",
    "        updated_overlap, updated_idx = jax.lax.top_k(overlaps, self.ndR)\n",
    "        updated_w = w[updated_idx] + jnp.heaviside(self.kappa-updated_overlap, 0.).reshape((-1, 1))*(x[updated_idx]*(self.kappa-updated_overlap).reshape((-1, 1)) - self.beta*w[updated_idx])/self.ns # dim = (ndR, ns)\n",
    "        latent_var = updated_idx\n",
    "        return w.at[updated_idx].set(updated_w), latent_var\n",
    "    \n",
    "class Neuron11_2_Y(lib.Neuron11_2):\n",
    "    @partial(jax.jit, static_argnums=(0, ))\n",
    "    def update_fun(self, w, x, latent_var=None):\n",
    "        x = jnp.atleast_2d(x)\n",
    "        overlaps = jnp.sum(w*x, axis=-1) # dim = (nd, )\n",
    "        updated_overlap, updated_idx = jax.lax.top_k(overlaps, self.ndR)\n",
    "        updated_w = w[updated_idx] + jnp.heaviside(self.kappa+self.b-updated_overlap, 0.).reshape((-1, 1))*(x[updated_idx]*(self.kappa+self.b-(1-self.beta/self.ns)*updated_overlap).reshape((-1, 1)) - self.beta*w[updated_idx])/self.ns # dim = (ndR, ns)\n",
    "        latent_var = updated_idx\n",
    "        return w.at[updated_idx].set(updated_w), latent_var\n",
    "    \n",
    "class Neuron11_2_2_Y(lib.Neuron11_2):\n",
    "    @partial(jax.jit, static_argnums=(0, ))\n",
    "    def update_fun(self, w, x, latent_var=None):\n",
    "        x = jnp.atleast_2d(x)\n",
    "        overlaps = jnp.sum(w*x, axis=-1) # dim = (nd, )\n",
    "        x_parallel = overlaps / jnp.linalg.norm(w, axis=-1)\n",
    "        _, updated_idx = jax.lax.top_k(x_parallel, self.ndR)\n",
    "        updated_overlap = overlaps[updated_idx]\n",
    "        updated_w = w[updated_idx] + jnp.heaviside(self.kappa+self.b-updated_overlap, 0.).reshape((-1, 1))*(x[updated_idx]*(self.kappa+self.b-(1-self.beta/self.ns)*updated_overlap).reshape((-1, 1)) - self.beta*w[updated_idx])/self.ns # dim = (ndR, ns)\n",
    "        latent_var = updated_idx\n",
    "        return w.at[updated_idx].set(updated_w), latent_var\n",
    "\n",
    "class Neuron3_2_Y(lib.Neuron3_2):\n",
    "    @wraps(partial(jax.jit, static_argnums=(0, )))\n",
    "    def update_fun(self, w, x, latent_var=None):\n",
    "        x = jnp.atleast_2d(x)\n",
    "        overlaps = jnp.sum(w*x, axis=-1) - self.b # dim = (nd, )\n",
    "        updated_overlap, updated_idx = jax.lax.top_k(overlaps, self.ndR)\n",
    "        updated_w = w[updated_idx] + jax.nn.relu(self.kappa - updated_overlap).reshape((-1, 1))*x[updated_idx]/self.ns # dim = (ndR, ns)\n",
    "        updated_w = updated_w/jnp.linalg.norm(updated_w, ord=2, axis=-1, keepdims=True)\n",
    "        latent_var = updated_idx\n",
    "        return w.at[updated_idx].set(updated_w), latent_var\n",
    "\n",
    "class Simulation_Run_Y_distribution():\n",
    "    def __init__(self, neuron: Neuron11_2_Y, xs_gen: lib.Xs_Generator, decay_steps=500, initial_steps=500, n_tested_patterns=100, refresh_every=1000, seed=42) -> None:\n",
    "        self.key = jax.random.PRNGKey(seed)\n",
    "        self.key, subkey1, subkey2 = jax.random.split(self.key, 3)\n",
    "        self.neuron = neuron\n",
    "        self.decay_steps = decay_steps\n",
    "        self.initial_steps = initial_steps\n",
    "        self.n_test_patterns = n_tested_patterns\n",
    "        self.refresh_every = max(refresh_every, n_tested_patterns)\n",
    "        self.xs_gen = xs_gen\n",
    "        self.xs = self.xs_gen.gen(subkey1, self.refresh_every)\n",
    "        self.init_w(subkey2)\n",
    "\n",
    "        self.overlaps_record = np.zeros((n_tested_patterns, self.neuron.nd))\n",
    "        self.updated_idx_record = np.zeros((n_tested_patterns, self.neuron.ndR))\n",
    "\n",
    "    @partial(jax.jit, static_argnums=(0, ))\n",
    "    def neuron_update_fun(self, w, x, latent_var):\n",
    "        return self.neuron.update_fun(w, x, latent_var)\n",
    "\n",
    "    def init_w(self, key):\n",
    "        for i  in range(self.initial_steps):\n",
    "            if i%self.refresh_every == 0:\n",
    "                subkey, key = jax.random.split(key)\n",
    "                xs0 = self.xs_gen.gen(subkey, self.refresh_every)\n",
    "            self.neuron.w, self.neuron.latent_var = self.neuron_update_fun(self.neuron.w, xs0[i%self.refresh_every], self.neuron.latent_var)\n",
    "\n",
    "    @partial(jax.jit, static_argnums=(0, ))\n",
    "    def _update(self, w, latent_var, x):\n",
    "        w, latent_var = self.neuron_update_fun(w, x, latent_var)\n",
    "        # votes = jax.vmap(self.neuron.get_votes, in_axes=(None, 0))(w, x0s) # dim=(n_tested_patterns, )\n",
    "        return w, latent_var\n",
    "\n",
    "    def run(self, t, progress_bar=True):\n",
    "        self.key, subkey = jax.random.split(self.key)\n",
    "        self.xs = self.xs_gen.gen(subkey, self.refresh_every)        \n",
    "        x0s = self.xs[:self.n_test_patterns] # in jax numpy, a copy is created for x0s\n",
    "        if progress_bar is True: \n",
    "            pb = tqdm(range(t+self.n_test_patterns))\n",
    "        else:\n",
    "            pb = range(t+self.n_test_patterns)\n",
    "        for i in pb:\n",
    "            if i%self.refresh_every == 0 and i>=self.refresh_every:\n",
    "                self.key, subkey = jax.random.split(self.key)\n",
    "                self.xs = self.xs_gen.gen(subkey, self.refresh_every)\n",
    "            self.neuron.w, self.neuron.latent_var = self._update(self.neuron.w, self.neuron.latent_var, self.xs[i%self.refresh_every])\n",
    "            if i >= t:\n",
    "                idx_tmp = i-t\n",
    "                overlaps = np.sum(self.neuron.w*x0s[idx_tmp], axis=-1) # dim = (nd, )\n",
    "                self.overlaps_record[idx_tmp] = overlaps\n",
    "            if i < self.n_test_patterns:\n",
    "                self.updated_idx_record[i] = self.neuron.latent_var"
   ]
  },
  {
   "cell_type": "code",
   "execution_count": 4,
   "metadata": {},
   "outputs": [
    {
     "name": "stderr",
     "output_type": "stream",
     "text": [
      "No GPU/TPU found, falling back to CPU. (Set TF_CPP_MIN_LOG_LEVEL=0 and rerun for more info.)\n"
     ]
    }
   ],
   "source": [
    "n_iterations = 30\n",
    "t=12000\n",
    "\n",
    "ns=300\n",
    "nd=200\n",
    "rho = 1\n",
    "bias = 2.75\n",
    "ndR = 4\n",
    "kappa = 2.25\n",
    "n_votes = nd\n",
    "vote_th = bias\n",
    "# la = 0.445556\n",
    "beta = 10.0242\n",
    "\n",
    "decay_steps = 2000\n",
    "n_tested_patterns = 4000\n",
    "initial_steps = 5000\n",
    "\n",
    "expzI_records = np.zeros((n_iterations))\n",
    "expz2I_records = np.zeros((n_iterations))\n",
    "expaI_records = np.zeros((n_iterations))\n",
    "expzII_records = np.zeros((n_iterations))\n",
    "expz2II_records = np.zeros((n_iterations))\n",
    "expaII_records = np.zeros((n_iterations))\n",
    "YI_records = np.zeros((n_iterations, n_tested_patterns))\n",
    "YII_records = np.zeros((n_iterations, n_tested_patterns))\n",
    "\n",
    "seed = 1029\n",
    "rng = np.random.default_rng(seed)\n",
    "\n",
    "neuron2 = Neuron11_2_Y(n_synapses=ns, n_dendrites=nd, bias=bias, kappa=kappa, ndR=ndR, beta=beta, vote_th=vote_th, seed=rng.integers(100000))\n",
    "xs_gen = lib.Xs_Generator3_2(nd, ns, rho, normalized_len=np.sqrt(ns), seed=rng.integers(100000))\n",
    "simulation_run2 = Simulation_Run_Y_distribution(neuron2, xs_gen, decay_steps=decay_steps, initial_steps=initial_steps, n_tested_patterns=n_tested_patterns, refresh_every=500, seed=rng.integers(100000))\n"
   ]
  },
  {
   "cell_type": "code",
   "execution_count": 5,
   "metadata": {},
   "outputs": [
    {
     "name": "stderr",
     "output_type": "stream",
     "text": [
      "100%|██████████| 16000/16000 [00:27<00:00, 589.42it/s] \n",
      "100%|██████████| 16000/16000 [00:29<00:00, 537.01it/s] \n",
      "100%|██████████| 16000/16000 [00:27<00:00, 585.70it/s] \n",
      "100%|██████████| 16000/16000 [00:27<00:00, 577.52it/s] \n",
      "100%|██████████| 16000/16000 [00:28<00:00, 559.61it/s] \n",
      "100%|██████████| 16000/16000 [00:30<00:00, 526.80it/s] \n",
      "100%|██████████| 16000/16000 [00:27<00:00, 585.08it/s] \n",
      "100%|██████████| 16000/16000 [00:26<00:00, 603.13it/s] \n",
      "100%|██████████| 16000/16000 [00:26<00:00, 599.50it/s] \n",
      "100%|██████████| 16000/16000 [00:27<00:00, 582.20it/s] \n",
      "100%|██████████| 16000/16000 [00:28<00:00, 563.35it/s] \n",
      "100%|██████████| 16000/16000 [00:27<00:00, 576.95it/s] \n",
      "100%|██████████| 16000/16000 [00:29<00:00, 550.68it/s] \n",
      "100%|██████████| 16000/16000 [00:28<00:00, 561.23it/s] \n",
      "100%|██████████| 16000/16000 [00:27<00:00, 588.18it/s] \n",
      "100%|██████████| 16000/16000 [00:27<00:00, 591.67it/s] \n",
      "100%|██████████| 16000/16000 [00:27<00:00, 581.90it/s] \n",
      "100%|██████████| 16000/16000 [00:27<00:00, 583.17it/s] \n",
      "100%|██████████| 16000/16000 [00:26<00:00, 606.46it/s] \n",
      "100%|██████████| 16000/16000 [00:26<00:00, 602.83it/s] \n",
      "100%|██████████| 16000/16000 [00:26<00:00, 592.73it/s] \n",
      "100%|██████████| 16000/16000 [00:26<00:00, 614.42it/s] \n",
      "100%|██████████| 16000/16000 [00:25<00:00, 615.67it/s] \n",
      "100%|██████████| 16000/16000 [00:26<00:00, 608.67it/s] \n",
      "100%|██████████| 16000/16000 [00:26<00:00, 611.07it/s] \n",
      "100%|██████████| 16000/16000 [00:25<00:00, 616.94it/s] \n",
      "100%|██████████| 16000/16000 [00:25<00:00, 623.20it/s] \n",
      "100%|██████████| 16000/16000 [00:26<00:00, 602.72it/s] \n",
      "100%|██████████| 16000/16000 [00:26<00:00, 607.46it/s] \n",
      "100%|██████████| 16000/16000 [00:26<00:00, 608.41it/s] \n"
     ]
    }
   ],
   "source": [
    "for i in range(n_iterations):\n",
    "    simulation_run2.run(t=t)\n",
    "    \n",
    "    tmp = np.ones((n_tested_patterns, 1), dtype=int)*np.arange(nd, dtype=int)\n",
    "    tmpII = simulation_run2.updated_idx_record.astype(int)\n",
    "    tmpI = np.array([np.setdiff1d(tmp[i], tmpII[i], assume_unique=True) for i in range(n_tested_patterns)])\n",
    "    uII_record = simulation_run2.overlaps_record[np.arange(n_tested_patterns, dtype=int).reshape((-1, 1))*np.ones(ndR, dtype=int), tmpII]\n",
    "    uI_record = simulation_run2.overlaps_record[np.arange(n_tested_patterns, dtype=int).reshape((-1, 1))*np.ones(nd-ndR, dtype=int), tmpI]\n",
    "    zI_record = (uI_record - bias)*(uI_record - bias > 0)\n",
    "    zII_record = (uII_record - bias)*(uII_record - bias > 0)\n",
    "    YI_records[i] = np.sum(zI_record, axis=-1)\n",
    "    YII_records[i] = np.sum(zII_record, axis=-1)\n",
    "    expzI_records[i] = np.mean(zI_record)\n",
    "    expzII_records[i] = np.mean(zII_record)\n",
    "    expz2I_records[i] = np.mean(zI_record**2)\n",
    "    expz2II_records[i] = np.mean(zII_record**2)\n",
    "    expaI_records[i] = 1 - np.nonzero(zI_record.reshape((-1, )))[0].shape[0] / len(zI_record.reshape((-1, )))\n",
    "    expaII_records[i] = 1 - np.nonzero(zII_record.reshape((-1, )))[0].shape[0] / len(zII_record.reshape((-1, )))"
   ]
  },
  {
   "cell_type": "code",
   "execution_count": 62,
   "metadata": {},
   "outputs": [
    {
     "name": "stdout",
     "output_type": "stream",
     "text": [
      "---------------------\n",
      "<zI>:  0.0008303796607316757\n",
      "<zII>:  0.00197243322879076\n",
      "<zI^2>-<zI>^2:  0.0004541156003598504    <zI^2>:  0.00045480513074080725\n",
      "<zII^2>-<zII>^2:  0.0011766222234372015    <zII^2>:  0.0011805127162792394\n",
      "<aI>:  0.9971672193877552\n",
      "<aII>:  0.9939479166666667\n",
      "---------------------\n",
      "<YI>:  0.16275441350340844\n",
      "<YII>:  0.00788973291516304\n",
      "<Y>:  0.17064414641857148\n",
      "<YI^2> - <YI>^2:  0.08961890769392958    <YI^2>:  0.11610790680876804\n",
      "<YII^2> - <YII>^2:  0.004713022899011561    <YII^2>:  0.0047752707844841685\n",
      "<Y^2>-<Y>^2:  0.09439999846308546    <Y^2>:  0.12351942317000832\n",
      "<AI>:  0.5729833333333334\n",
      "<AII>:  0.9760166666666666\n"
     ]
    }
   ],
   "source": [
    "expzI = np.mean(expzI_records)\n",
    "expzII = np.mean(expzII_records)\n",
    "expz2I = np.mean(expz2I_records)\n",
    "expz2II = np.mean(expz2II_records)\n",
    "expaI = np.mean(expaI_records)\n",
    "expaII = np.mean(expaII_records)\n",
    "YI_records = YI_records.reshape((-1, ))\n",
    "YII_records = YII_records.reshape((-1, ))\n",
    "Y_records = YI_records + YII_records\n",
    "expYI = np.mean(YI_records)\n",
    "expYII = np.mean(YII_records)\n",
    "expY = np.mean(Y_records)\n",
    "expY2I = np.mean(YI_records**2)\n",
    "expY2II = np.mean(YII_records**2)\n",
    "expY2 = np.mean(Y_records**2)\n",
    "expAI = 1 - np.nonzero(YI_records)[0].shape[0] / len(YI_records)\n",
    "expAII = 1 - np.nonzero(YII_records)[0].shape[0] / len(YII_records)\n",
    "\n",
    "\n",
    "print(\"---------------------\")\n",
    "print(\"<zI>: \", expzI)\n",
    "print(\"<zII>: \", expzII)\n",
    "print(\"<zI^2>-<zI>^2: \", expz2I-expzI**2, \"   <zI^2>: \", expz2I)\n",
    "print(\"<zII^2>-<zII>^2: \", expz2II-expzII**2, \"   <zII^2>: \", expz2II)\n",
    "print(\"<aI>: \", expaI)\n",
    "print(\"<aII>: \", expaII)\n",
    "print(\"---------------------\")\n",
    "print(\"<YI>: \", expYI)\n",
    "print(\"<YII>: \", expYII)\n",
    "print(\"<Y>: \", expY)\n",
    "print(\"<YI^2> - <YI>^2: \", expY2I - expYI**2, \"   <YI^2>: \", expY2I)\n",
    "print(\"<YII^2> - <YII>^2: \", expY2II - expYII**2, \"   <YII^2>: \", expY2II)\n",
    "print(\"<Y^2>-<Y>^2: \", expY2-expY**2, \"   <Y^2>: \", expY2)\n",
    "print(\"<AI>: \", expAI)\n",
    "print(\"<AII>: \", expAII)"
   ]
  },
  {
   "cell_type": "code",
   "execution_count": 17,
   "metadata": {},
   "outputs": [],
   "source": [
    "theory_YII = np.genfromtxt(\"tmp_data/tmpList.csv\", delimiter=',')"
   ]
  },
  {
   "cell_type": "code",
   "execution_count": 9,
   "metadata": {},
   "outputs": [
    {
     "data": {
      "image/png": "[encoded data removed]",
      "text/plain": [
       "<Figure size 640x480 with 1 Axes>"
      ]
     },
     "metadata": {},
     "output_type": "display_data"
    }
   ],
   "source": [
    "ys, xs, _ = plt.hist(YII_records, bins=50, density=True, histtype=\"step\", cumulative=False)\n",
    "xs = (xs[:-1]+xs[1:])/2\n",
    "plt.plot(xs, ys)\n",
    "def tmpfun(y, a, mu, sigma):\n",
    "    return (1-a)*np.exp(-(y-mu)**2/2/sigma**2)/np.sqrt(2*np.pi*sigma**2)/0.5/(1+erf(mu/sigma/np.sqrt(2.)))\n",
    "def tmpfunCum(y, a, mu, sigma):\n",
    "    return a + (1-a)*(erf((y-mu)/sigma/np.sqrt(2))+erf(mu/sigma/np.sqrt(2.)))/(1+erf(mu/sigma/np.sqrt(2.)))\n",
    "# plt.plot(np.arange(0, 10, 0.1), tmpfun(np.arange(0, 10, 0.1), 0.000025, 4.19078, 1.26685))\n",
    "# plt.plot(np.arange(0, 10, 0.1), tmpfun(np.arange(0, 10, 0.1), 0.0000, np.mean(YII_records), np.std(YII_records)))\n",
    "# plt.plot(theory_YII[:, 0], theory_YII[:, 1], label=\"skew gaussian\")\n",
    "# plt.xlim(7, 8)\n",
    "# plt.xlim(0, 2)\n",
    "# plt.ylim(0, 0.05)"
   ]
  },
  {
   "cell_type": "code",
   "execution_count": 10,
   "metadata": {},
   "outputs": [
    {
     "data": {
      "text/plain": [
       "3.9604307132661343"
      ]
     },
     "execution_count": 10,
     "metadata": {},
     "output_type": "execute_result"
    }
   ],
   "source": [
    "np.mean(YII_records)"
   ]
  },
  {
   "cell_type": "code",
   "execution_count": 11,
   "metadata": {},
   "outputs": [
    {
     "data": {
      "text/plain": [
       "(0.0, 0.2)"
      ]
     },
     "execution_count": 11,
     "metadata": {},
     "output_type": "execute_result"
    },
    {
     "data": {
      "image/png": "[encoded data removed]",
      "text/plain": [
       "<Figure size 640x480 with 1 Axes>"
      ]
     },
     "metadata": {},
     "output_type": "display_data"
    }
   ],
   "source": [
    "ys, xs, _ = plt.hist(YII_records, bins=50, density=True, histtype=\"step\", cumulative=True);\n",
    "plt.plot(xs[1:], ys)\n",
    "def tmpfun(y, a, mu, sigma):\n",
    "    return (1-a)*np.exp(-(y-mu)**2/2/sigma**2)/np.sqrt(2*np.pi*sigma**2)/0.5/(1+erf(mu/sigma/np.sqrt(2.)))\n",
    "def tmpfunCum(y, a, mu, sigma):\n",
    "    return a + (1-a)*(erf((y-mu)/sigma/np.sqrt(2))+erf(mu/sigma/np.sqrt(2.)))/(1+erf(mu/sigma/np.sqrt(2.)))\n",
    "# plt.plot(np.arange(0, 10, 0.1), tmpfunCum(np.arange(0, 10, 0.1), 0.000025, 4.19078, 1.26685))\n",
    "plt.plot(np.arange(0, 10, 0.1), tmpfunCum(np.arange(0, 10, 0.1), 0.0000, np.mean(YII_records), np.std(YII_records)))\n",
    "plt.xlim(0, 3)\n",
    "plt.ylim(0, 0.2)"
   ]
  },
  {
   "cell_type": "code",
   "execution_count": 9,
   "metadata": {},
   "outputs": [
    {
     "data": {
      "text/plain": [
       "0.10206573645654211"
      ]
     },
     "execution_count": 9,
     "metadata": {},
     "output_type": "execute_result"
    }
   ],
   "source": [
    "np.mean(YII_records)\n",
    "np.std(YII_records)\n",
    "scipy.stats.skew(YII_records)"
   ]
  },
  {
   "cell_type": "code",
   "execution_count": null,
   "metadata": {},
   "outputs": [],
   "source": [
    "0.0951717"
   ]
  },
  {
   "cell_type": "code",
   "execution_count": 12,
   "metadata": {},
   "outputs": [
    {
     "data": {
      "image/png": "[encoded data removed]",
      "text/plain": [
       "<Figure size 640x480 with 1 Axes>"
      ]
     },
     "metadata": {},
     "output_type": "display_data"
    }
   ],
   "source": [
    "ys, xs, _ = plt.hist(YI_records, bins=50, range=(0.0000000001, YI_records.max()), density=True, histtype=\"step\");\n",
    "xs = (xs[:-1]+xs[1:])/2\n",
    "plt.plot(xs, ys)\n",
    "def tmpfun(y, a, mu, sigma):\n",
    "    return np.exp(-(y-mu)**2/2/sigma**2)/np.sqrt(2*np.pi*sigma**2)/0.5/(1+erf(mu/sigma/np.sqrt(2.)))\n",
    "# plt.plot(np.arange(0, 2, 0.02), tmpfun(np.arange(0, 2, 0.02), 0.89199, -1.74302, 0.638665))"
   ]
  },
  {
   "cell_type": "code",
   "execution_count": 39,
   "metadata": {},
   "outputs": [
    {
     "data": {
      "image/png": "[encoded data removed]",
      "text/plain": [
       "<Figure size 640x480 with 1 Axes>"
      ]
     },
     "metadata": {},
     "output_type": "display_data"
    }
   ],
   "source": [
    "ys, xs, _ = plt.hist(Y_records, bins=50, range=(0.0000000001, Y_records.max()), density=True, histtype=\"step\");\n",
    "xs = (xs[:-1]+xs[1:])/2\n",
    "plt.plot(xs, ys)\n",
    "def tmpfun(y, a, mu, sigma):\n",
    "    return np.exp(-(y-mu)**2/2/sigma**2)/np.sqrt(2*np.pi*sigma**2)/0.5/(1+erf(mu/sigma/np.sqrt(2.)))"
   ]
  },
  {
   "cell_type": "code",
   "execution_count": 73,
   "metadata": {},
   "outputs": [
    {
     "name": "stdout",
     "output_type": "stream",
     "text": [
      "0.18032246404886246\n",
      "0.13587228379368274\n",
      "0.546\n"
     ]
    }
   ],
   "source": [
    "print(np.mean(Y_records))\n",
    "print(np.mean(Y_records**2))\n",
    "print(np.mean(Y_records==0))"
   ]
  },
  {
   "cell_type": "code",
   "execution_count": 26,
   "metadata": {},
   "outputs": [],
   "source": [
    "np.savetxt(\"tmp_data/tmpY_distribution.txt\", np.array([xs, ys]).T, fmt=\"%10.8f\")"
   ]
  },
  {
   "cell_type": "code",
   "execution_count": 58,
   "metadata": {},
   "outputs": [
    {
     "data": {
      "text/plain": [
       "0.28282293302059885"
      ]
     },
     "execution_count": 58,
     "metadata": {},
     "output_type": "execute_result"
    }
   ],
   "source": [
    "np.sum(Y_records>0.5)/np.sum(Y_records>0)"
   ]
  },
  {
   "cell_type": "code",
   "execution_count": 65,
   "metadata": {},
   "outputs": [],
   "source": [
    "z_record = np.concatenate((zI_record, zII_record), axis=-1)"
   ]
  },
  {
   "cell_type": "code",
   "execution_count": 69,
   "metadata": {},
   "outputs": [
    {
     "name": "stdout",
     "output_type": "stream",
     "text": [
      "0.0009016123202443123\n",
      "0.0005077087615518672\n",
      "0.0029837499999999517\n"
     ]
    }
   ],
   "source": [
    "print(np.mean(z_record))\n",
    "print(np.mean(z_record**2))\n",
    "print(1-np.mean(z_record==0))"
   ]
  },
  {
   "cell_type": "code",
   "execution_count": 72,
   "metadata": {},
   "outputs": [],
   "source": [
    "Y_records=np.sum(z_record, axis=-1)"
   ]
  },
  {
   "cell_type": "code",
   "execution_count": 74,
   "metadata": {},
   "outputs": [
    {
     "data": {
      "text/plain": [
       "0.034012556076049805"
      ]
     },
     "execution_count": 74,
     "metadata": {},
     "output_type": "execute_result"
    }
   ],
   "source": [
    "idx=10\n",
    "YI_records[idx] + YII_records[idx]"
   ]
  },
  {
   "cell_type": "code",
   "execution_count": 75,
   "metadata": {},
   "outputs": [
    {
     "data": {
      "text/plain": [
       "0.0005731582641601562"
      ]
     },
     "execution_count": 75,
     "metadata": {},
     "output_type": "execute_result"
    }
   ],
   "source": [
    "Y_records[idx]"
   ]
  },
  {
   "cell_type": "code",
   "execution_count": null,
   "metadata": {},
   "outputs": [],
   "source": []
  }
 ],
 "metadata": {
  "kernelspec": {
   "display_name": "rotation",
   "language": "python",
   "name": "python3"
  },
  "language_info": {
   "codemirror_mode": {
    "name": "ipython",
    "version": 3
   },
   "file_extension": ".py",
   "mimetype": "text/x-python",
   "name": "python",
   "nbconvert_exporter": "python",
   "pygments_lexer": "ipython3",
   "version": "3.10.1"
  },
  "orig_nbformat": 4
 },
 "nbformat": 4,
 "nbformat_minor": 2
}
