{
 "cells": [
  {
   "cell_type": "code",
   "execution_count": 1,
   "metadata": {},
   "outputs": [],
   "source": [
    "import numpy as np\n",
    "from matplotlib import pyplot as plt\n",
    "from tqdm import tqdm\n",
    "import jax.numpy as jnp\n",
    "import jax\n",
    "from scipy.special import erfcinv\n",
    "from functools import partial, wraps"
   ]
  },
  {
   "cell_type": "code",
   "execution_count": 2,
   "metadata": {},
   "outputs": [],
   "source": [
    "import lib"
   ]
  },
  {
   "cell_type": "code",
   "execution_count": 21,
   "metadata": {},
   "outputs": [],
   "source": [
    "ns=300\n",
    "nd=200\n",
    "rho=1\n",
    "bias = 2.75\n",
    "ndR = 4\n",
    "kappa = 2.25\n",
    "n_votes = nd\n",
    "vote_th = bias\n",
    "# la = bias - np.sqrt(2)*erfcinv(2*ndR/nd)\n",
    "beta = 10.0242\n",
    "\n",
    "# ns=300\n",
    "# nd=200\n",
    "# bias = 2.32635\n",
    "# ndR = 3\n",
    "# n_votes = nd\n",
    "# kappa = 3.\n",
    "# la = 0.445556\n",
    "# # # beta = 11.5\n",
    "\n",
    "decay_steps = 30000\n",
    "n_tested_patterns = 1000\n",
    "initial_steps = 5000\n",
    "\n",
    "seed = 1103\n",
    "rng = np.random.default_rng(seed)\n",
    "\n",
    "neuron = lib.Neuron11_2(n_synapses=ns, n_dendrites=nd, bias=bias, kappa=kappa, ndR=ndR, beta=beta, vote_th=vote_th, seed=rng.integers(100000))\n",
    "# neuron = lib.Neuron3_2(n_synapses=ns, n_dendrites=nd, bias=bias, kappa=kappa, ndR=ndR, n_votes=n_votes, vote_th=vote_th, seed=rng.integers(100000))\n",
    "# neuron = lib.Neuron4_2(n_synapses=ns, n_dendrites=nd, bias=bias, kappa=kappa, la=la, n_votes=n_votes, vote_th=vote_th, seed=rng.integers(100000))\n",
    "\n",
    "# xs_gen = lib.Xs_Generator1(1, ns, normalized_len=np.sqrt(ns), seed=rng.integers(100000))\n",
    "xs_gen = lib.Xs_Generator3_2(1, ns, rho, normalized_len=np.sqrt(ns), seed=rng.integers(100000))\n",
    "\n",
    "# simulation_run = lib.Simulation_Run(neuron, xs_gen, decay_steps=decay_steps, initial_steps=initial_steps, n_tested_patterns=n_tested_patterns, refresh_every=500, seed=rng.integers(100000))\n",
    "simulation_run = lib.Simulation_Run(neuron, xs_gen, decay_steps=decay_steps, initial_steps=initial_steps, n_tested_patterns=n_tested_patterns, refresh_every=500, seed=rng.integers(100000))"
   ]
  },
  {
   "cell_type": "code",
   "execution_count": 22,
   "metadata": {},
   "outputs": [
    {
     "name": "stderr",
     "output_type": "stream",
     "text": [
      "  0%|          | 0/31000 [00:00<?, ?it/s]"
     ]
    },
    {
     "name": "stderr",
     "output_type": "stream",
     "text": [
      "100%|██████████| 31000/31000 [01:12<00:00, 427.62it/s]\n"
     ]
    }
   ],
   "source": [
    "simulation_run.run()"
   ]
  },
  {
   "cell_type": "code",
   "execution_count": 27,
   "metadata": {},
   "outputs": [
    {
     "name": "stdout",
     "output_type": "stream",
     "text": [
      "1.367\n",
      "9.000001\n"
     ]
    }
   ],
   "source": [
    "upper99_1 = jnp.mean(np.sort(simulation_run.votes_record, axis=0)[int(n_tested_patterns*0.99), decay_steps-15000:decay_steps])\n",
    "mean_1_init = jnp.mean(simulation_run.votes_record, axis=0)[0]\n",
    "print(upper99_1)\n",
    "print(mean_1_init)"
   ]
  },
  {
   "cell_type": "code",
   "execution_count": 28,
   "metadata": {},
   "outputs": [],
   "source": [
    "# theory_mean = np.genfromtxt(\"data/paraemter_serach/nd600_ns100/meanTimeList.csv\", delimiter=',')\n",
    "# theory_lower99 = np.genfromtxt(\"data/paraemter_serach/nd600_ns100/lower99TimeList.csv\", delimiter=',')\n",
    "# theory_upper99 = np.genfromtxt(\"data/paraemter_serach/nd600_ns100/upper99TimeList.csv\", delimiter=',')\n",
    "theory_mean = np.genfromtxt(\"tmp_data/meanTimeList.csv\", delimiter=',')\n",
    "theory_lower99 = np.genfromtxt(\"tmp_data/lower99TimeList.csv\", delimiter=',')\n",
    "theory_upper99 = np.genfromtxt(\"tmp_data/upper99TimeList.csv\", delimiter=',')\n",
    "# theory_mean_new = np.genfromtxt(\"tmp_data/meanTimeList_new.csv\", delimiter=',')\n",
    "# theory_lower99_new = np.genfromtxt(\"tmp_data/lower99TimeList_new.csv\", delimiter=',')\n",
    "# theory_upper99_new = np.genfromtxt(\"tmp_data/upper99TimeList_new.csv\", delimiter=',')"
   ]
  },
  {
   "cell_type": "code",
   "execution_count": 34,
   "metadata": {},
   "outputs": [
    {
     "data": {
      "text/plain": [
       "<matplotlib.legend.Legend at 0x7f11a07ebf10>"
      ]
     },
     "execution_count": 34,
     "metadata": {},
     "output_type": "execute_result"
    },
    {
     "data": {
      "image/png": "[encoded data removed]",
      "text/plain": [
       "<Figure size 640x480 with 1 Axes>"
      ]
     },
     "metadata": {},
     "output_type": "display_data"
    }
   ],
   "source": [
    "plt.plot(np.mean(simulation_run.votes_record, axis=0)[:decay_steps], c=\"red\", linewidth=0.4, label=\"simulation\")\n",
    "plt.plot(np.sort(simulation_run.votes_record, axis=0)[int(n_tested_patterns*0.01), :decay_steps], c=\"red\", linewidth=0.4)\n",
    "plt.plot(np.sort(simulation_run.votes_record, axis=0)[int(n_tested_patterns*0.99), :decay_steps], c=\"red\", linewidth=0.4)\n",
    "\n",
    "plt.plot(theory_mean[:, 0], theory_mean[:, 1], c=\"green\", label=\"theory\")\n",
    "plt.plot(theory_lower99[:, 0], theory_lower99[:, 1], c=\"green\")\n",
    "plt.plot(theory_upper99[:, 0], theory_upper99[:, 1], c=\"green\")\n",
    "\n",
    "# plt.plot(theory_mean_new[:, 0], theory_mean_new[:, 1], c=\"blue\", label=\"theory new\")\n",
    "# plt.plot(theory_lower99_new[:, 0], theory_lower99_new[:, 1], c=\"blue\")\n",
    "# plt.plot(theory_upper99_new[:, 0], theory_upper99_new[:, 1], c=\"blue\")\n",
    "\n",
    "plt.hlines(upper99_1, 0, decay_steps)\n",
    "plt.hlines(1.4107, 0, decay_steps)\n",
    "plt.xlim(1000, 1250)\n",
    "plt.ylim(1, 2)\n",
    "plt.legend()\n",
    "# plt.yscale(\"log\")"
   ]
  },
  {
   "cell_type": "code",
   "execution_count": 30,
   "metadata": {},
   "outputs": [
    {
     "data": {
      "text/plain": [
       "Array(1.367, dtype=float32)"
      ]
     },
     "execution_count": 30,
     "metadata": {},
     "output_type": "execute_result"
    }
   ],
   "source": [
    "upper99_1"
   ]
  },
  {
   "cell_type": "code",
   "execution_count": 51,
   "metadata": {},
   "outputs": [
    {
     "data": {
      "text/plain": [
       "60010"
      ]
     },
     "execution_count": 51,
     "metadata": {},
     "output_type": "execute_result"
    }
   ],
   "source": [
    "85*706"
   ]
  },
  {
   "cell_type": "code",
   "execution_count": null,
   "metadata": {},
   "outputs": [],
   "source": []
  },
  {
   "cell_type": "code",
   "execution_count": null,
   "metadata": {},
   "outputs": [],
   "source": []
  }
 ],
 "metadata": {
  "kernelspec": {
   "display_name": "rotation",
   "language": "python",
   "name": "python3"
  },
  "language_info": {
   "codemirror_mode": {
    "name": "ipython",
    "version": 3
   },
   "file_extension": ".py",
   "mimetype": "text/x-python",
   "name": "python",
   "nbconvert_exporter": "python",
   "pygments_lexer": "ipython3",
   "version": "3.10.1"
  },
  "orig_nbformat": 4
 },
 "nbformat": 4,
 "nbformat_minor": 2
}
